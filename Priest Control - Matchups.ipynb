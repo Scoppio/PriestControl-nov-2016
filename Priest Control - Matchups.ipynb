{
 "cells": [
  {
   "cell_type": "markdown",
   "metadata": {},
   "source": [
    "# VOTADECK\n",
    "## Priest Control\n",
    "Fast analysis of the metagame for Priest Control archetype"
   ]
  },
  {
   "cell_type": "code",
   "execution_count": 78,
   "metadata": {
    "collapsed": true
   },
   "outputs": [],
   "source": [
    "import pandas as pd\n",
    "import numpy as np"
   ]
  },
  {
   "cell_type": "markdown",
   "metadata": {},
   "source": [
    "Load the file with the frequency of deck archetypes in the game into the decks dataframe\n",
    "\n",
    "Load the file with the frequency of the heros in the game into the heros dataframe\n",
    "\n",
    "*this data was hand gathered from vS-DataReaper"
   ]
  },
  {
   "cell_type": "code",
   "execution_count": 126,
   "metadata": {
    "collapsed": true
   },
   "outputs": [],
   "source": [
    "decks = pd.read_csv(\"datasets\\deck_presence.csv\")\n",
    "heros = pd.read_csv(\"datasets\\hero_presence.csv\")"
   ]
  },
  {
   "cell_type": "markdown",
   "metadata": {},
   "source": [
    "Explore the head of the decks dataframe"
   ]
  },
  {
   "cell_type": "code",
   "execution_count": 127,
   "metadata": {
    "collapsed": false
   },
   "outputs": [
    {
     "data": {
      "text/html": [
       "<div>\n",
       "<table border=\"1\" class=\"dataframe\">\n",
       "  <thead>\n",
       "    <tr style=\"text-align: right;\">\n",
       "      <th></th>\n",
       "      <th>hero</th>\n",
       "      <th>deck</th>\n",
       "      <th>percent</th>\n",
       "    </tr>\n",
       "  </thead>\n",
       "  <tbody>\n",
       "    <tr>\n",
       "      <th>0</th>\n",
       "      <td>Shaman</td>\n",
       "      <td>Midrange</td>\n",
       "      <td>20.75</td>\n",
       "    </tr>\n",
       "    <tr>\n",
       "      <th>1</th>\n",
       "      <td>Shaman</td>\n",
       "      <td>Control</td>\n",
       "      <td>1.12</td>\n",
       "    </tr>\n",
       "    <tr>\n",
       "      <th>2</th>\n",
       "      <td>Shaman</td>\n",
       "      <td>Aggro</td>\n",
       "      <td>0.93</td>\n",
       "    </tr>\n",
       "    <tr>\n",
       "      <th>3</th>\n",
       "      <td>Shaman</td>\n",
       "      <td>Other</td>\n",
       "      <td>0.80</td>\n",
       "    </tr>\n",
       "    <tr>\n",
       "      <th>4</th>\n",
       "      <td>Shaman</td>\n",
       "      <td>Evolve</td>\n",
       "      <td>0.48</td>\n",
       "    </tr>\n",
       "  </tbody>\n",
       "</table>\n",
       "</div>"
      ],
      "text/plain": [
       "     hero      deck  percent\n",
       "0  Shaman  Midrange    20.75\n",
       "1  Shaman   Control     1.12\n",
       "2  Shaman     Aggro     0.93\n",
       "3  Shaman     Other     0.80\n",
       "4  Shaman    Evolve     0.48"
      ]
     },
     "execution_count": 127,
     "metadata": {},
     "output_type": "execute_result"
    }
   ],
   "source": [
    "decks.head()"
   ]
  },
  {
   "cell_type": "markdown",
   "metadata": {},
   "source": [
    "Sort the decks by its frequency in the meta"
   ]
  },
  {
   "cell_type": "code",
   "execution_count": 88,
   "metadata": {
    "collapsed": false
   },
   "outputs": [
    {
     "data": {
      "text/html": [
       "<div>\n",
       "<table border=\"1\" class=\"dataframe\">\n",
       "  <thead>\n",
       "    <tr style=\"text-align: right;\">\n",
       "      <th></th>\n",
       "      <th>hero</th>\n",
       "      <th>deck</th>\n",
       "      <th>percent</th>\n",
       "    </tr>\n",
       "  </thead>\n",
       "  <tbody>\n",
       "    <tr>\n",
       "      <th>0</th>\n",
       "      <td>Shaman</td>\n",
       "      <td>Midrange</td>\n",
       "      <td>20.75</td>\n",
       "    </tr>\n",
       "    <tr>\n",
       "      <th>14</th>\n",
       "      <td>Mage</td>\n",
       "      <td>Tempo</td>\n",
       "      <td>7.42</td>\n",
       "    </tr>\n",
       "    <tr>\n",
       "      <th>19</th>\n",
       "      <td>Druid</td>\n",
       "      <td>Spell</td>\n",
       "      <td>7.04</td>\n",
       "    </tr>\n",
       "    <tr>\n",
       "      <th>5</th>\n",
       "      <td>Hunter</td>\n",
       "      <td>Secret</td>\n",
       "      <td>6.83</td>\n",
       "    </tr>\n",
       "    <tr>\n",
       "      <th>23</th>\n",
       "      <td>Warlock</td>\n",
       "      <td>Zoo</td>\n",
       "      <td>5.73</td>\n",
       "    </tr>\n",
       "  </tbody>\n",
       "</table>\n",
       "</div>"
      ],
      "text/plain": [
       "       hero      deck  percent\n",
       "0    Shaman  Midrange    20.75\n",
       "14     Mage     Tempo     7.42\n",
       "19    Druid     Spell     7.04\n",
       "5    Hunter    Secret     6.83\n",
       "23  Warlock       Zoo     5.73"
      ]
     },
     "execution_count": 88,
     "metadata": {},
     "output_type": "execute_result"
    }
   ],
   "source": [
    "decks = decks.sort_values('percent', ascending=False)\n",
    "decks.head()"
   ]
  },
  {
   "cell_type": "markdown",
   "metadata": {},
   "source": [
    "## Only the top 80% more frequent decks\n",
    "Lets eliminate some decks (most of them) and keep only those that comprehend the 80% more frequent decks of the field"
   ]
  },
  {
   "cell_type": "code",
   "execution_count": 89,
   "metadata": {
    "collapsed": false
   },
   "outputs": [
    {
     "name": "stdout",
     "output_type": "stream",
     "text": [
      "15\n",
      "hero       Druid\n",
      "deck       Beast\n",
      "percent     1.97\n",
      "Name: 20, dtype: object\n"
     ]
    }
   ],
   "source": [
    "n = [n for n in decks['percent']]\n",
    "val = 80\n",
    "for count, tot in zip(range(len(decks)), decks['percent']):\n",
    "    val -= tot\n",
    "    if val <= 0:\n",
    "        print(count)\n",
    "        break\n",
    "print(decks.iloc[count][['hero','deck','percent']])"
   ]
  },
  {
   "cell_type": "markdown",
   "metadata": {},
   "source": [
    "Save the top decks in a separated dataframe"
   ]
  },
  {
   "cell_type": "code",
   "execution_count": 90,
   "metadata": {
    "collapsed": false
   },
   "outputs": [],
   "source": [
    "topdecks = decks.iloc[0:count+1]"
   ]
  },
  {
   "cell_type": "markdown",
   "metadata": {},
   "source": [
    "Loads the matchup data from file to dataframe matchup and explores it."
   ]
  },
  {
   "cell_type": "markdown",
   "metadata": {},
   "source": [
    "## Matchup against the top decks\n",
    "Now we will categorize the games, defining how likely it is for a game against one of the top decks is to be won or lost, based on the matchups file."
   ]
  },
  {
   "cell_type": "code",
   "execution_count": 91,
   "metadata": {
    "collapsed": false
   },
   "outputs": [
    {
     "data": {
      "text/html": [
       "<div>\n",
       "<table border=\"1\" class=\"dataframe\">\n",
       "  <thead>\n",
       "    <tr style=\"text-align: right;\">\n",
       "      <th></th>\n",
       "      <th>hero</th>\n",
       "      <th>deck</th>\n",
       "      <th>win_chance</th>\n",
       "    </tr>\n",
       "  </thead>\n",
       "  <tbody>\n",
       "    <tr>\n",
       "      <th>0</th>\n",
       "      <td>Druid</td>\n",
       "      <td>Beast</td>\n",
       "      <td>0.3600</td>\n",
       "    </tr>\n",
       "    <tr>\n",
       "      <th>1</th>\n",
       "      <td>Druid</td>\n",
       "      <td>CThun</td>\n",
       "      <td>0.4959</td>\n",
       "    </tr>\n",
       "    <tr>\n",
       "      <th>2</th>\n",
       "      <td>Druid</td>\n",
       "      <td>Spell</td>\n",
       "      <td>0.4118</td>\n",
       "    </tr>\n",
       "    <tr>\n",
       "      <th>3</th>\n",
       "      <td>Hunter</td>\n",
       "      <td>Face</td>\n",
       "      <td>0.3488</td>\n",
       "    </tr>\n",
       "    <tr>\n",
       "      <th>4</th>\n",
       "      <td>Hunter</td>\n",
       "      <td>Midrange</td>\n",
       "      <td>0.4042</td>\n",
       "    </tr>\n",
       "  </tbody>\n",
       "</table>\n",
       "</div>"
      ],
      "text/plain": [
       "     hero      deck  win_chance\n",
       "0   Druid     Beast      0.3600\n",
       "1   Druid     CThun      0.4959\n",
       "2   Druid     Spell      0.4118\n",
       "3  Hunter      Face      0.3488\n",
       "4  Hunter  Midrange      0.4042"
      ]
     },
     "execution_count": 91,
     "metadata": {},
     "output_type": "execute_result"
    }
   ],
   "source": [
    "matchup = pd.read_csv(\"datasets/priest_control_matchup.csv\")\n",
    "matchup.head()"
   ]
  },
  {
   "cell_type": "markdown",
   "metadata": {},
   "source": [
    "Merge the topdecks and matchup dataframes into a new one rl_decks, which will hold both chance to win against an archetype and the percentage a given deck appears in the field"
   ]
  },
  {
   "cell_type": "code",
   "execution_count": 113,
   "metadata": {
    "collapsed": false
   },
   "outputs": [
    {
     "data": {
      "text/html": [
       "<div>\n",
       "<table border=\"1\" class=\"dataframe\">\n",
       "  <thead>\n",
       "    <tr style=\"text-align: right;\">\n",
       "      <th></th>\n",
       "      <th>hero</th>\n",
       "      <th>deck</th>\n",
       "      <th>percent</th>\n",
       "      <th>win_chance</th>\n",
       "    </tr>\n",
       "  </thead>\n",
       "  <tbody>\n",
       "    <tr>\n",
       "      <th>0</th>\n",
       "      <td>Shaman</td>\n",
       "      <td>Midrange</td>\n",
       "      <td>20.75</td>\n",
       "      <td>0.3884</td>\n",
       "    </tr>\n",
       "    <tr>\n",
       "      <th>1</th>\n",
       "      <td>Mage</td>\n",
       "      <td>Tempo</td>\n",
       "      <td>7.42</td>\n",
       "      <td>0.4056</td>\n",
       "    </tr>\n",
       "    <tr>\n",
       "      <th>2</th>\n",
       "      <td>Druid</td>\n",
       "      <td>Spell</td>\n",
       "      <td>7.04</td>\n",
       "      <td>0.4118</td>\n",
       "    </tr>\n",
       "    <tr>\n",
       "      <th>3</th>\n",
       "      <td>Hunter</td>\n",
       "      <td>Secret</td>\n",
       "      <td>6.83</td>\n",
       "      <td>0.4234</td>\n",
       "    </tr>\n",
       "    <tr>\n",
       "      <th>4</th>\n",
       "      <td>Warlock</td>\n",
       "      <td>Zoo</td>\n",
       "      <td>5.73</td>\n",
       "      <td>0.5039</td>\n",
       "    </tr>\n",
       "    <tr>\n",
       "      <th>5</th>\n",
       "      <td>Rogue</td>\n",
       "      <td>Miracle</td>\n",
       "      <td>5.16</td>\n",
       "      <td>0.3602</td>\n",
       "    </tr>\n",
       "    <tr>\n",
       "      <th>6</th>\n",
       "      <td>Hunter</td>\n",
       "      <td>Face</td>\n",
       "      <td>4.34</td>\n",
       "      <td>0.3488</td>\n",
       "    </tr>\n",
       "    <tr>\n",
       "      <th>7</th>\n",
       "      <td>Warrior</td>\n",
       "      <td>Control</td>\n",
       "      <td>4.22</td>\n",
       "      <td>0.5851</td>\n",
       "    </tr>\n",
       "    <tr>\n",
       "      <th>8</th>\n",
       "      <td>Warrior</td>\n",
       "      <td>CThun</td>\n",
       "      <td>2.90</td>\n",
       "      <td>0.4766</td>\n",
       "    </tr>\n",
       "    <tr>\n",
       "      <th>9</th>\n",
       "      <td>Warrior</td>\n",
       "      <td>Pirate</td>\n",
       "      <td>2.87</td>\n",
       "      <td>0.4417</td>\n",
       "    </tr>\n",
       "    <tr>\n",
       "      <th>10</th>\n",
       "      <td>Hunter</td>\n",
       "      <td>Midrange</td>\n",
       "      <td>2.71</td>\n",
       "      <td>0.4042</td>\n",
       "    </tr>\n",
       "    <tr>\n",
       "      <th>11</th>\n",
       "      <td>Warrior</td>\n",
       "      <td>Dragon</td>\n",
       "      <td>2.54</td>\n",
       "      <td>0.3963</td>\n",
       "    </tr>\n",
       "    <tr>\n",
       "      <th>12</th>\n",
       "      <td>Warlock</td>\n",
       "      <td>Reno</td>\n",
       "      <td>2.24</td>\n",
       "      <td>0.4392</td>\n",
       "    </tr>\n",
       "    <tr>\n",
       "      <th>13</th>\n",
       "      <td>Paladin</td>\n",
       "      <td>Anyfin</td>\n",
       "      <td>2.06</td>\n",
       "      <td>0.4237</td>\n",
       "    </tr>\n",
       "    <tr>\n",
       "      <th>14</th>\n",
       "      <td>Druid</td>\n",
       "      <td>Beast</td>\n",
       "      <td>1.97</td>\n",
       "      <td>0.3600</td>\n",
       "    </tr>\n",
       "  </tbody>\n",
       "</table>\n",
       "</div>"
      ],
      "text/plain": [
       "       hero      deck  percent  win_chance\n",
       "0    Shaman  Midrange    20.75      0.3884\n",
       "1      Mage     Tempo     7.42      0.4056\n",
       "2     Druid     Spell     7.04      0.4118\n",
       "3    Hunter    Secret     6.83      0.4234\n",
       "4   Warlock       Zoo     5.73      0.5039\n",
       "5     Rogue   Miracle     5.16      0.3602\n",
       "6    Hunter      Face     4.34      0.3488\n",
       "7   Warrior   Control     4.22      0.5851\n",
       "8   Warrior     CThun     2.90      0.4766\n",
       "9   Warrior    Pirate     2.87      0.4417\n",
       "10   Hunter  Midrange     2.71      0.4042\n",
       "11  Warrior    Dragon     2.54      0.3963\n",
       "12  Warlock      Reno     2.24      0.4392\n",
       "13  Paladin    Anyfin     2.06      0.4237\n",
       "14    Druid     Beast     1.97      0.3600"
      ]
     },
     "execution_count": 113,
     "metadata": {},
     "output_type": "execute_result"
    }
   ],
   "source": [
    "rl_decks = pd.merge(topdecks, matchup, on=[\"hero\",\"deck\"], how=\"inner\")\n",
    "rl_decks"
   ]
  },
  {
   "cell_type": "markdown",
   "metadata": {},
   "source": [
    "Correction of the frequency from ~0.78 to 1.0, the objective in this correction is to normalize the deck frequency distribution to this new study set."
   ]
  },
  {
   "cell_type": "code",
   "execution_count": 128,
   "metadata": {
    "collapsed": false
   },
   "outputs": [],
   "source": [
    "rl_decks['percent'] = rl_decks['percent']/100\n",
    "rl_decks['percent'] = rl_decks['percent'] * (1 / sum(rl_decks['percent']))"
   ]
  },
  {
   "cell_type": "markdown",
   "metadata": {},
   "source": [
    "Separating the archetypes in two groups, those which the victory chance is equal or bigger than 0.43, ans those that are less."
   ]
  },
  {
   "cell_type": "code",
   "execution_count": 115,
   "metadata": {
    "collapsed": false
   },
   "outputs": [],
   "source": [
    "w = rl_decks[rl_decks['win_chance'] >= 0.43]\n",
    "l = rl_decks[rl_decks['win_chance'] < 0.43]"
   ]
  },
  {
   "cell_type": "markdown",
   "metadata": {
    "collapsed": true
   },
   "source": [
    "Weighted average of the chance to win of Priest Control agains the study group."
   ]
  },
  {
   "cell_type": "code",
   "execution_count": 117,
   "metadata": {
    "collapsed": false
   },
   "outputs": [
    {
     "data": {
      "text/plain": [
       "0.41769829906067529"
      ]
     },
     "execution_count": 117,
     "metadata": {},
     "output_type": "execute_result"
    }
   ],
   "source": [
    "sum(rl_decks['percent'] * rl_decks['win_chance'])"
   ]
  },
  {
   "cell_type": "markdown",
   "metadata": {},
   "source": [
    "### Weighted average of the winning-rate against 'W' group\n",
    "Group W, archetypes which the win-rate against them is higher or equal to 0.43"
   ]
  },
  {
   "cell_type": "code",
   "execution_count": 122,
   "metadata": {
    "collapsed": false
   },
   "outputs": [
    {
     "name": "stderr",
     "output_type": "stream",
     "text": [
      "c:\\python35\\lib\\site-packages\\ipykernel\\__main__.py:1: SettingWithCopyWarning: \n",
      "A value is trying to be set on a copy of a slice from a DataFrame.\n",
      "Try using .loc[row_indexer,col_indexer] = value instead\n",
      "\n",
      "See the caveats in the documentation: http://pandas.pydata.org/pandas-docs/stable/indexing.html#indexing-view-versus-copy\n",
      "  if __name__ == '__main__':\n"
     ]
    },
    {
     "data": {
      "text/plain": [
       "0.50056213808463246"
      ]
     },
     "execution_count": 122,
     "metadata": {},
     "output_type": "execute_result"
    }
   ],
   "source": [
    "w['normalized_percent'] = w['percent'] * (1 / sum(w['percent']))\n",
    "sum(w['normalized_percent'] * w['win_chance'])"
   ]
  },
  {
   "cell_type": "code",
   "execution_count": 129,
   "metadata": {
    "collapsed": false
   },
   "outputs": [
    {
     "data": {
      "text/html": [
       "<div>\n",
       "<table border=\"1\" class=\"dataframe\">\n",
       "  <thead>\n",
       "    <tr style=\"text-align: right;\">\n",
       "      <th></th>\n",
       "      <th>hero</th>\n",
       "      <th>deck</th>\n",
       "      <th>percent</th>\n",
       "      <th>win_chance</th>\n",
       "      <th>normalized_percent</th>\n",
       "    </tr>\n",
       "  </thead>\n",
       "  <tbody>\n",
       "    <tr>\n",
       "      <th>4</th>\n",
       "      <td>Warlock</td>\n",
       "      <td>Zoo</td>\n",
       "      <td>0.072734</td>\n",
       "      <td>0.5039</td>\n",
       "      <td>0.319042</td>\n",
       "    </tr>\n",
       "    <tr>\n",
       "      <th>7</th>\n",
       "      <td>Warrior</td>\n",
       "      <td>Control</td>\n",
       "      <td>0.053567</td>\n",
       "      <td>0.5851</td>\n",
       "      <td>0.234967</td>\n",
       "    </tr>\n",
       "    <tr>\n",
       "      <th>8</th>\n",
       "      <td>Warrior</td>\n",
       "      <td>CThun</td>\n",
       "      <td>0.036811</td>\n",
       "      <td>0.4766</td>\n",
       "      <td>0.161470</td>\n",
       "    </tr>\n",
       "    <tr>\n",
       "      <th>9</th>\n",
       "      <td>Warrior</td>\n",
       "      <td>Pirate</td>\n",
       "      <td>0.036431</td>\n",
       "      <td>0.4417</td>\n",
       "      <td>0.159800</td>\n",
       "    </tr>\n",
       "    <tr>\n",
       "      <th>12</th>\n",
       "      <td>Warlock</td>\n",
       "      <td>Reno</td>\n",
       "      <td>0.028434</td>\n",
       "      <td>0.4392</td>\n",
       "      <td>0.124722</td>\n",
       "    </tr>\n",
       "  </tbody>\n",
       "</table>\n",
       "</div>"
      ],
      "text/plain": [
       "       hero     deck   percent  win_chance  normalized_percent\n",
       "4   Warlock      Zoo  0.072734      0.5039            0.319042\n",
       "7   Warrior  Control  0.053567      0.5851            0.234967\n",
       "8   Warrior    CThun  0.036811      0.4766            0.161470\n",
       "9   Warrior   Pirate  0.036431      0.4417            0.159800\n",
       "12  Warlock     Reno  0.028434      0.4392            0.124722"
      ]
     },
     "execution_count": 129,
     "metadata": {},
     "output_type": "execute_result"
    }
   ],
   "source": [
    "w #archetypes"
   ]
  },
  {
   "cell_type": "markdown",
   "metadata": {},
   "source": [
    "### Weighted average of the winning-rate against 'L' group\n",
    "Group W, archetypes which the win-rate against them is lower than 0.43"
   ]
  },
  {
   "cell_type": "code",
   "execution_count": 123,
   "metadata": {
    "collapsed": false
   },
   "outputs": [
    {
     "name": "stderr",
     "output_type": "stream",
     "text": [
      "c:\\python35\\lib\\site-packages\\ipykernel\\__main__.py:1: SettingWithCopyWarning: \n",
      "A value is trying to be set on a copy of a slice from a DataFrame.\n",
      "Try using .loc[row_indexer,col_indexer] = value instead\n",
      "\n",
      "See the caveats in the documentation: http://pandas.pydata.org/pandas-docs/stable/indexing.html#indexing-view-versus-copy\n",
      "  if __name__ == '__main__':\n"
     ]
    },
    {
     "data": {
      "text/plain": [
       "0.3932288063137126"
      ]
     },
     "execution_count": 123,
     "metadata": {},
     "output_type": "execute_result"
    }
   ],
   "source": [
    "l['normalized_percent'] = l['percent'] * (1 / sum(l['percent']))\n",
    "sum(l['normalized_percent'] * l['win_chance'])"
   ]
  },
  {
   "cell_type": "code",
   "execution_count": 125,
   "metadata": {
    "collapsed": false
   },
   "outputs": [
    {
     "data": {
      "text/html": [
       "<div>\n",
       "<table border=\"1\" class=\"dataframe\">\n",
       "  <thead>\n",
       "    <tr style=\"text-align: right;\">\n",
       "      <th></th>\n",
       "      <th>hero</th>\n",
       "      <th>deck</th>\n",
       "      <th>percent</th>\n",
       "      <th>win_chance</th>\n",
       "      <th>normalized_percent</th>\n",
       "    </tr>\n",
       "  </thead>\n",
       "  <tbody>\n",
       "    <tr>\n",
       "      <th>0</th>\n",
       "      <td>Shaman</td>\n",
       "      <td>Midrange</td>\n",
       "      <td>0.263392</td>\n",
       "      <td>0.3884</td>\n",
       "      <td>0.341171</td>\n",
       "    </tr>\n",
       "    <tr>\n",
       "      <th>1</th>\n",
       "      <td>Mage</td>\n",
       "      <td>Tempo</td>\n",
       "      <td>0.094186</td>\n",
       "      <td>0.4056</td>\n",
       "      <td>0.121999</td>\n",
       "    </tr>\n",
       "    <tr>\n",
       "      <th>2</th>\n",
       "      <td>Druid</td>\n",
       "      <td>Spell</td>\n",
       "      <td>0.089363</td>\n",
       "      <td>0.4118</td>\n",
       "      <td>0.115751</td>\n",
       "    </tr>\n",
       "    <tr>\n",
       "      <th>3</th>\n",
       "      <td>Hunter</td>\n",
       "      <td>Secret</td>\n",
       "      <td>0.086697</td>\n",
       "      <td>0.4234</td>\n",
       "      <td>0.112299</td>\n",
       "    </tr>\n",
       "    <tr>\n",
       "      <th>5</th>\n",
       "      <td>Rogue</td>\n",
       "      <td>Miracle</td>\n",
       "      <td>0.065499</td>\n",
       "      <td>0.3602</td>\n",
       "      <td>0.084841</td>\n",
       "    </tr>\n",
       "    <tr>\n",
       "      <th>6</th>\n",
       "      <td>Hunter</td>\n",
       "      <td>Face</td>\n",
       "      <td>0.055090</td>\n",
       "      <td>0.3488</td>\n",
       "      <td>0.071358</td>\n",
       "    </tr>\n",
       "    <tr>\n",
       "      <th>10</th>\n",
       "      <td>Hunter</td>\n",
       "      <td>Midrange</td>\n",
       "      <td>0.034400</td>\n",
       "      <td>0.4042</td>\n",
       "      <td>0.044558</td>\n",
       "    </tr>\n",
       "    <tr>\n",
       "      <th>11</th>\n",
       "      <td>Warrior</td>\n",
       "      <td>Dragon</td>\n",
       "      <td>0.032242</td>\n",
       "      <td>0.3963</td>\n",
       "      <td>0.041763</td>\n",
       "    </tr>\n",
       "    <tr>\n",
       "      <th>13</th>\n",
       "      <td>Paladin</td>\n",
       "      <td>Anyfin</td>\n",
       "      <td>0.026149</td>\n",
       "      <td>0.4237</td>\n",
       "      <td>0.033870</td>\n",
       "    </tr>\n",
       "    <tr>\n",
       "      <th>14</th>\n",
       "      <td>Druid</td>\n",
       "      <td>Beast</td>\n",
       "      <td>0.025006</td>\n",
       "      <td>0.3600</td>\n",
       "      <td>0.032391</td>\n",
       "    </tr>\n",
       "  </tbody>\n",
       "</table>\n",
       "</div>"
      ],
      "text/plain": [
       "       hero      deck   percent  win_chance  normalized_percent\n",
       "0    Shaman  Midrange  0.263392      0.3884            0.341171\n",
       "1      Mage     Tempo  0.094186      0.4056            0.121999\n",
       "2     Druid     Spell  0.089363      0.4118            0.115751\n",
       "3    Hunter    Secret  0.086697      0.4234            0.112299\n",
       "5     Rogue   Miracle  0.065499      0.3602            0.084841\n",
       "6    Hunter      Face  0.055090      0.3488            0.071358\n",
       "10   Hunter  Midrange  0.034400      0.4042            0.044558\n",
       "11  Warrior    Dragon  0.032242      0.3963            0.041763\n",
       "13  Paladin    Anyfin  0.026149      0.4237            0.033870\n",
       "14    Druid     Beast  0.025006      0.3600            0.032391"
      ]
     },
     "execution_count": 125,
     "metadata": {},
     "output_type": "execute_result"
    }
   ],
   "source": [
    "l #archetypes"
   ]
  },
  {
   "cell_type": "code",
   "execution_count": null,
   "metadata": {
    "collapsed": true
   },
   "outputs": [],
   "source": []
  }
 ],
 "metadata": {
  "kernelspec": {
   "display_name": "Python 3",
   "language": "python",
   "name": "python3"
  },
  "language_info": {
   "codemirror_mode": {
    "name": "ipython",
    "version": 3
   },
   "file_extension": ".py",
   "mimetype": "text/x-python",
   "name": "python",
   "nbconvert_exporter": "python",
   "pygments_lexer": "ipython3",
   "version": "3.5.1"
  }
 },
 "nbformat": 4,
 "nbformat_minor": 1
}
